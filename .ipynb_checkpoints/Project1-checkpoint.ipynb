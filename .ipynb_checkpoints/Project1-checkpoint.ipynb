{
 "cells": [
  {
   "cell_type": "code",
   "execution_count": 5,
   "metadata": {},
   "outputs": [],
   "source": [
    "import pandas as pd"
   ]
  },
  {
   "cell_type": "code",
   "execution_count": 6,
   "metadata": {},
   "outputs": [],
   "source": [
    "df3 = pd.read_csv(\"Python_Spring2020_Project1.csv\", header=\"infer\")"
   ]
  },
  {
   "cell_type": "code",
   "execution_count": 7,
   "metadata": {},
   "outputs": [
    {
     "data": {
      "text/html": [
       "<div>\n",
       "<style scoped>\n",
       "    .dataframe tbody tr th:only-of-type {\n",
       "        vertical-align: middle;\n",
       "    }\n",
       "\n",
       "    .dataframe tbody tr th {\n",
       "        vertical-align: top;\n",
       "    }\n",
       "\n",
       "    .dataframe thead th {\n",
       "        text-align: right;\n",
       "    }\n",
       "</style>\n",
       "<table border=\"1\" class=\"dataframe\">\n",
       "  <thead>\n",
       "    <tr style=\"text-align: right;\">\n",
       "      <th></th>\n",
       "      <th>Date</th>\n",
       "      <th>Description</th>\n",
       "      <th>Amount</th>\n",
       "    </tr>\n",
       "  </thead>\n",
       "  <tbody>\n",
       "    <tr>\n",
       "      <td>0</td>\n",
       "      <td>1/27/2020</td>\n",
       "      <td>JAY C FOODS 087 SELLERSBURG IN               0...</td>\n",
       "      <td>-6.88</td>\n",
       "    </tr>\n",
       "    <tr>\n",
       "      <td>1</td>\n",
       "      <td>1/27/2020</td>\n",
       "      <td>CVS/PHARMACY #03962 SELLERSBURG IN           0...</td>\n",
       "      <td>-29.53</td>\n",
       "    </tr>\n",
       "    <tr>\n",
       "      <td>2</td>\n",
       "      <td>1/27/2020</td>\n",
       "      <td>ALDI 44034 JEFFERSONVILL IN                  0...</td>\n",
       "      <td>-33.60</td>\n",
       "    </tr>\n",
       "    <tr>\n",
       "      <td>3</td>\n",
       "      <td>1/27/2020</td>\n",
       "      <td>KROGER 776 JEFFERSONVILL IN                  0...</td>\n",
       "      <td>-70.45</td>\n",
       "    </tr>\n",
       "    <tr>\n",
       "      <td>4</td>\n",
       "      <td>1/23/2020</td>\n",
       "      <td>QuickPay with Zelle payment to Krista Baumgart...</td>\n",
       "      <td>-17.00</td>\n",
       "    </tr>\n",
       "    <tr>\n",
       "      <td>5</td>\n",
       "      <td>1/21/2020</td>\n",
       "      <td>KROGER 776 JEFFERSONVILL IN                  0...</td>\n",
       "      <td>-165.20</td>\n",
       "    </tr>\n",
       "    <tr>\n",
       "      <td>6</td>\n",
       "      <td>1/21/2020</td>\n",
       "      <td>ALDI 44034 JEFFERSONVILL IN                  0...</td>\n",
       "      <td>-45.34</td>\n",
       "    </tr>\n",
       "    <tr>\n",
       "      <td>7</td>\n",
       "      <td>1/21/2020</td>\n",
       "      <td>JAY C FOODS 087 SELLERSBURG IN               0...</td>\n",
       "      <td>-26.76</td>\n",
       "    </tr>\n",
       "    <tr>\n",
       "      <td>8</td>\n",
       "      <td>1/17/2020</td>\n",
       "      <td>DEBIT CARD PURCHASE   XXXXX6321 KROGER #776   ...</td>\n",
       "      <td>-51.35</td>\n",
       "    </tr>\n",
       "    <tr>\n",
       "      <td>9</td>\n",
       "      <td>1/16/2020</td>\n",
       "      <td>POS PURCHASE          POS89868702  0351306 ALD...</td>\n",
       "      <td>-66.23</td>\n",
       "    </tr>\n",
       "  </tbody>\n",
       "</table>\n",
       "</div>"
      ],
      "text/plain": [
       "        Date                                        Description  Amount\n",
       "0  1/27/2020  JAY C FOODS 087 SELLERSBURG IN               0...   -6.88\n",
       "1  1/27/2020  CVS/PHARMACY #03962 SELLERSBURG IN           0...  -29.53\n",
       "2  1/27/2020  ALDI 44034 JEFFERSONVILL IN                  0...  -33.60\n",
       "3  1/27/2020  KROGER 776 JEFFERSONVILL IN                  0...  -70.45\n",
       "4  1/23/2020  QuickPay with Zelle payment to Krista Baumgart...  -17.00\n",
       "5  1/21/2020  KROGER 776 JEFFERSONVILL IN                  0... -165.20\n",
       "6  1/21/2020  ALDI 44034 JEFFERSONVILL IN                  0...  -45.34\n",
       "7  1/21/2020  JAY C FOODS 087 SELLERSBURG IN               0...  -26.76\n",
       "8  1/17/2020  DEBIT CARD PURCHASE   XXXXX6321 KROGER #776   ...  -51.35\n",
       "9  1/16/2020  POS PURCHASE          POS89868702  0351306 ALD...  -66.23"
      ]
     },
     "execution_count": 7,
     "metadata": {},
     "output_type": "execute_result"
    }
   ],
   "source": [
    "df3.head(10)"
   ]
  },
  {
   "cell_type": "code",
   "execution_count": null,
   "metadata": {},
   "outputs": [],
   "source": []
  }
 ],
 "metadata": {
  "kernelspec": {
   "display_name": "Python 3",
   "language": "python",
   "name": "python3"
  },
  "language_info": {
   "codemirror_mode": {
    "name": "ipython",
    "version": 3
   },
   "file_extension": ".py",
   "mimetype": "text/x-python",
   "name": "python",
   "nbconvert_exporter": "python",
   "pygments_lexer": "ipython3",
   "version": "3.7.4"
  }
 },
 "nbformat": 4,
 "nbformat_minor": 2
}
